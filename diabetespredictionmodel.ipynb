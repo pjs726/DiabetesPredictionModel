{
 "cells": [
  {
   "cell_type": "markdown",
   "id": "d0853ac1",
   "metadata": {
    "papermill": {
     "duration": 0.002945,
     "end_time": "2023-06-20T20:17:41.386249",
     "exception": false,
     "start_time": "2023-06-20T20:17:41.383304",
     "status": "completed"
    },
    "tags": []
   },
   "source": [
    "We begin by importing the Diabetes Prediction Dataset into the notebook."
   ]
  },
  {
   "cell_type": "code",
   "execution_count": 1,
   "id": "f17c0cf0",
   "metadata": {
    "_cell_guid": "b1076dfc-b9ad-4769-8c92-a6c4dae69d19",
    "_uuid": "8f2839f25d086af736a60e9eeb907d3b93b6e0e5",
    "execution": {
     "iopub.execute_input": "2023-06-20T20:17:41.393406Z",
     "iopub.status.busy": "2023-06-20T20:17:41.392748Z",
     "iopub.status.idle": "2023-06-20T20:17:41.411941Z",
     "shell.execute_reply": "2023-06-20T20:17:41.411194Z"
    },
    "papermill": {
     "duration": 0.02613,
     "end_time": "2023-06-20T20:17:41.414942",
     "exception": false,
     "start_time": "2023-06-20T20:17:41.388812",
     "status": "completed"
    },
    "tags": []
   },
   "outputs": [
    {
     "name": "stdout",
     "output_type": "stream",
     "text": [
      "/kaggle/input/diabetes-prediction-dataset/diabetes_prediction_dataset.csv\n"
     ]
    }
   ],
   "source": [
    "# This Python 3 environment comes with many helpful analytics libraries installed\n",
    "# It is defined by the kaggle/python Docker image: https://github.com/kaggle/docker-python\n",
    "# For example, here's several helpful packages to load\n",
    "\n",
    "import numpy as np # linear algebra\n",
    "import pandas as pd # data processing, CSV file I/O (e.g. pd.read_csv)\n",
    "\n",
    "# Input data files are available in the read-only \"../input/\" directory\n",
    "# For example, running this (by clicking run or pressing Shift+Enter) will list all files under the input directory\n",
    "\n",
    "import os\n",
    "for dirname, _, filenames in os.walk('/kaggle/input'):\n",
    "    for filename in filenames:\n",
    "        print(os.path.join(dirname, filename))\n",
    "\n",
    "# You can write up to 20GB to the current directory (/kaggle/working/) that gets preserved as output when you create a version using \"Save & Run All\" \n",
    "# You can also write temporary files to /kaggle/temp/, but they won't be saved outside of the current session"
   ]
  },
  {
   "cell_type": "markdown",
   "id": "3f259d3e",
   "metadata": {
    "papermill": {
     "duration": 0.002524,
     "end_time": "2023-06-20T20:17:41.420174",
     "exception": false,
     "start_time": "2023-06-20T20:17:41.417650",
     "status": "completed"
    },
    "tags": []
   },
   "source": [
    "We create a test and train dataset from the original CSV."
   ]
  },
  {
   "cell_type": "code",
   "execution_count": null,
   "id": "059de764",
   "metadata": {
    "papermill": {
     "duration": 0.001705,
     "end_time": "2023-06-20T20:17:41.424331",
     "exception": false,
     "start_time": "2023-06-20T20:17:41.422626",
     "status": "completed"
    },
    "tags": []
   },
   "outputs": [],
   "source": []
  },
  {
   "cell_type": "markdown",
   "id": "dacb92b9",
   "metadata": {
    "papermill": {
     "duration": 0.00162,
     "end_time": "2023-06-20T20:17:41.427842",
     "exception": false,
     "start_time": "2023-06-20T20:17:41.426222",
     "status": "completed"
    },
    "tags": []
   },
   "source": [
    "We then run some simple classifers to gain an understanding of how basic predictions (based on one data value) perform. In particular, given that high A1c levels are linked extensively with diabetes, we begin with a classifer which works on "
   ]
  }
 ],
 "metadata": {
  "kernelspec": {
   "display_name": "Python 3",
   "language": "python",
   "name": "python3"
  },
  "language_info": {
   "codemirror_mode": {
    "name": "ipython",
    "version": 3
   },
   "file_extension": ".py",
   "mimetype": "text/x-python",
   "name": "python",
   "nbconvert_exporter": "python",
   "pygments_lexer": "ipython3",
   "version": "3.10.10"
  },
  "papermill": {
   "default_parameters": {},
   "duration": 11.005329,
   "end_time": "2023-06-20T20:17:42.249861",
   "environment_variables": {},
   "exception": null,
   "input_path": "__notebook__.ipynb",
   "output_path": "__notebook__.ipynb",
   "parameters": {},
   "start_time": "2023-06-20T20:17:31.244532",
   "version": "2.4.0"
  }
 },
 "nbformat": 4,
 "nbformat_minor": 5
}
