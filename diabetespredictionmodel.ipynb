{
 "cells": [
  {
   "cell_type": "markdown",
   "id": "019b5854",
   "metadata": {
    "papermill": {
     "duration": 0.002875,
     "end_time": "2023-06-20T20:56:35.578903",
     "exception": false,
     "start_time": "2023-06-20T20:56:35.576028",
     "status": "completed"
    },
    "tags": []
   },
   "source": [
    "We begin by importing the Diabetes Prediction Dataset into the notebook."
   ]
  },
  {
   "cell_type": "code",
   "execution_count": 1,
   "id": "36ebfdec",
   "metadata": {
    "_cell_guid": "b1076dfc-b9ad-4769-8c92-a6c4dae69d19",
    "_uuid": "8f2839f25d086af736a60e9eeb907d3b93b6e0e5",
    "execution": {
     "iopub.execute_input": "2023-06-20T20:56:35.585844Z",
     "iopub.status.busy": "2023-06-20T20:56:35.585496Z",
     "iopub.status.idle": "2023-06-20T20:56:35.600583Z",
     "shell.execute_reply": "2023-06-20T20:56:35.599633Z"
    },
    "papermill": {
     "duration": 0.02124,
     "end_time": "2023-06-20T20:56:35.602783",
     "exception": false,
     "start_time": "2023-06-20T20:56:35.581543",
     "status": "completed"
    },
    "tags": []
   },
   "outputs": [
    {
     "name": "stdout",
     "output_type": "stream",
     "text": [
      "/kaggle/input/diabetes-prediction-dataset/diabetes_prediction_dataset.csv\n"
     ]
    }
   ],
   "source": [
    "# This Python 3 environment comes with many helpful analytics libraries installed\n",
    "# It is defined by the kaggle/python Docker image: https://github.com/kaggle/docker-python\n",
    "# For example, here's several helpful packages to load\n",
    "\n",
    "import numpy as np # linear algebra\n",
    "import pandas as pd # data processing, CSV file I/O (e.g. pd.read_csv)\n",
    "\n",
    "# Input data files are available in the read-only \"../input/\" directory\n",
    "# For example, running this (by clicking run or pressing Shift+Enter) will list all files under the input directory\n",
    "\n",
    "import os\n",
    "for dirname, _, filenames in os.walk('/kaggle/input'):\n",
    "    for filename in filenames:\n",
    "        print(os.path.join(dirname, filename))\n",
    "\n",
    "# You can write up to 20GB to the current directory (/kaggle/working/) that gets preserved as output when you create a version using \"Save & Run All\" \n",
    "# You can also write temporary files to /kaggle/temp/, but they won't be saved outside of the current session"
   ]
  },
  {
   "cell_type": "markdown",
   "id": "cc0dc89f",
   "metadata": {
    "papermill": {
     "duration": 0.002085,
     "end_time": "2023-06-20T20:56:35.607456",
     "exception": false,
     "start_time": "2023-06-20T20:56:35.605371",
     "status": "completed"
    },
    "tags": []
   },
   "source": [
    "We create a test and train dataset from the original CSV. (Code taken from [here](https://stackoverflow.com/questions/43697240/how-can-i-split-a-dataset-from-a-csv-file-for-training-and-testing))."
   ]
  },
  {
   "cell_type": "code",
   "execution_count": 2,
   "id": "605be5ce",
   "metadata": {
    "execution": {
     "iopub.execute_input": "2023-06-20T20:56:35.613562Z",
     "iopub.status.busy": "2023-06-20T20:56:35.613232Z",
     "iopub.status.idle": "2023-06-20T20:56:35.767475Z",
     "shell.execute_reply": "2023-06-20T20:56:35.765652Z"
    },
    "papermill": {
     "duration": 0.160731,
     "end_time": "2023-06-20T20:56:35.770427",
     "exception": false,
     "start_time": "2023-06-20T20:56:35.609696",
     "status": "completed"
    },
    "tags": []
   },
   "outputs": [],
   "source": [
    "df = pd.read_csv('/kaggle/input/diabetes-prediction-dataset/diabetes_prediction_dataset.csv')\n",
    "df['split'] = np.random.randn(df.shape[0], 1)\n",
    "msk = np.random.rand(len(df)) <= 0.7\n",
    "\n",
    "train = df[msk]\n",
    "test = df[~msk]"
   ]
  },
  {
   "cell_type": "markdown",
   "id": "de82e3bc",
   "metadata": {
    "papermill": {
     "duration": 0.002074,
     "end_time": "2023-06-20T20:56:35.775139",
     "exception": false,
     "start_time": "2023-06-20T20:56:35.773065",
     "status": "completed"
    },
    "tags": []
   },
   "source": [
    "We then run some simple classifers to gain an understanding of how basic predictions (based on one data value) perform. In particular, given that high A1c levels are linked extensively with diabetes, we begin with a AdaBoost classifer which works on the A1c levels."
   ]
  },
  {
   "cell_type": "code",
   "execution_count": 3,
   "id": "dcdf89c1",
   "metadata": {
    "execution": {
     "iopub.execute_input": "2023-06-20T20:56:35.781507Z",
     "iopub.status.busy": "2023-06-20T20:56:35.780757Z",
     "iopub.status.idle": "2023-06-20T20:56:39.709793Z",
     "shell.execute_reply": "2023-06-20T20:56:39.708483Z"
    },
    "papermill": {
     "duration": 3.934538,
     "end_time": "2023-06-20T20:56:39.711905",
     "exception": false,
     "start_time": "2023-06-20T20:56:35.777367",
     "status": "completed"
    },
    "tags": []
   },
   "outputs": [
    {
     "data": {
      "text/html": [
       "<style>#sk-container-id-1 {color: black;background-color: white;}#sk-container-id-1 pre{padding: 0;}#sk-container-id-1 div.sk-toggleable {background-color: white;}#sk-container-id-1 label.sk-toggleable__label {cursor: pointer;display: block;width: 100%;margin-bottom: 0;padding: 0.3em;box-sizing: border-box;text-align: center;}#sk-container-id-1 label.sk-toggleable__label-arrow:before {content: \"▸\";float: left;margin-right: 0.25em;color: #696969;}#sk-container-id-1 label.sk-toggleable__label-arrow:hover:before {color: black;}#sk-container-id-1 div.sk-estimator:hover label.sk-toggleable__label-arrow:before {color: black;}#sk-container-id-1 div.sk-toggleable__content {max-height: 0;max-width: 0;overflow: hidden;text-align: left;background-color: #f0f8ff;}#sk-container-id-1 div.sk-toggleable__content pre {margin: 0.2em;color: black;border-radius: 0.25em;background-color: #f0f8ff;}#sk-container-id-1 input.sk-toggleable__control:checked~div.sk-toggleable__content {max-height: 200px;max-width: 100%;overflow: auto;}#sk-container-id-1 input.sk-toggleable__control:checked~label.sk-toggleable__label-arrow:before {content: \"▾\";}#sk-container-id-1 div.sk-estimator input.sk-toggleable__control:checked~label.sk-toggleable__label {background-color: #d4ebff;}#sk-container-id-1 div.sk-label input.sk-toggleable__control:checked~label.sk-toggleable__label {background-color: #d4ebff;}#sk-container-id-1 input.sk-hidden--visually {border: 0;clip: rect(1px 1px 1px 1px);clip: rect(1px, 1px, 1px, 1px);height: 1px;margin: -1px;overflow: hidden;padding: 0;position: absolute;width: 1px;}#sk-container-id-1 div.sk-estimator {font-family: monospace;background-color: #f0f8ff;border: 1px dotted black;border-radius: 0.25em;box-sizing: border-box;margin-bottom: 0.5em;}#sk-container-id-1 div.sk-estimator:hover {background-color: #d4ebff;}#sk-container-id-1 div.sk-parallel-item::after {content: \"\";width: 100%;border-bottom: 1px solid gray;flex-grow: 1;}#sk-container-id-1 div.sk-label:hover label.sk-toggleable__label {background-color: #d4ebff;}#sk-container-id-1 div.sk-serial::before {content: \"\";position: absolute;border-left: 1px solid gray;box-sizing: border-box;top: 0;bottom: 0;left: 50%;z-index: 0;}#sk-container-id-1 div.sk-serial {display: flex;flex-direction: column;align-items: center;background-color: white;padding-right: 0.2em;padding-left: 0.2em;position: relative;}#sk-container-id-1 div.sk-item {position: relative;z-index: 1;}#sk-container-id-1 div.sk-parallel {display: flex;align-items: stretch;justify-content: center;background-color: white;position: relative;}#sk-container-id-1 div.sk-item::before, #sk-container-id-1 div.sk-parallel-item::before {content: \"\";position: absolute;border-left: 1px solid gray;box-sizing: border-box;top: 0;bottom: 0;left: 50%;z-index: -1;}#sk-container-id-1 div.sk-parallel-item {display: flex;flex-direction: column;z-index: 1;position: relative;background-color: white;}#sk-container-id-1 div.sk-parallel-item:first-child::after {align-self: flex-end;width: 50%;}#sk-container-id-1 div.sk-parallel-item:last-child::after {align-self: flex-start;width: 50%;}#sk-container-id-1 div.sk-parallel-item:only-child::after {width: 0;}#sk-container-id-1 div.sk-dashed-wrapped {border: 1px dashed gray;margin: 0 0.4em 0.5em 0.4em;box-sizing: border-box;padding-bottom: 0.4em;background-color: white;}#sk-container-id-1 div.sk-label label {font-family: monospace;font-weight: bold;display: inline-block;line-height: 1.2em;}#sk-container-id-1 div.sk-label-container {text-align: center;}#sk-container-id-1 div.sk-container {/* jupyter's `normalize.less` sets `[hidden] { display: none; }` but bootstrap.min.css set `[hidden] { display: none !important; }` so we also need the `!important` here to be able to override the default hidden behavior on the sphinx rendered scikit-learn.org. See: https://github.com/scikit-learn/scikit-learn/issues/21755 */display: inline-block !important;position: relative;}#sk-container-id-1 div.sk-text-repr-fallback {display: none;}</style><div id=\"sk-container-id-1\" class=\"sk-top-container\"><div class=\"sk-text-repr-fallback\"><pre>AdaBoostClassifier(n_estimators=100, random_state=0)</pre><b>In a Jupyter environment, please rerun this cell to show the HTML representation or trust the notebook. <br />On GitHub, the HTML representation is unable to render, please try loading this page with nbviewer.org.</b></div><div class=\"sk-container\" hidden><div class=\"sk-item\"><div class=\"sk-estimator sk-toggleable\"><input class=\"sk-toggleable__control sk-hidden--visually\" id=\"sk-estimator-id-1\" type=\"checkbox\" checked><label for=\"sk-estimator-id-1\" class=\"sk-toggleable__label sk-toggleable__label-arrow\">AdaBoostClassifier</label><div class=\"sk-toggleable__content\"><pre>AdaBoostClassifier(n_estimators=100, random_state=0)</pre></div></div></div></div></div>"
      ],
      "text/plain": [
       "AdaBoostClassifier(n_estimators=100, random_state=0)"
      ]
     },
     "execution_count": 3,
     "metadata": {},
     "output_type": "execute_result"
    }
   ],
   "source": [
    "from sklearn.ensemble import AdaBoostClassifier\n",
    "from sklearn.datasets import make_classification\n",
    "\n",
    "clf = AdaBoostClassifier(n_estimators=100, random_state=0)\n",
    "clf.fit(train['HbA1c_level'].values.reshape(-1, 1), train['diabetes'])"
   ]
  },
  {
   "cell_type": "markdown",
   "id": "cc7b0a87",
   "metadata": {
    "papermill": {
     "duration": 0.002307,
     "end_time": "2023-06-20T20:56:39.717237",
     "exception": false,
     "start_time": "2023-06-20T20:56:39.714930",
     "status": "completed"
    },
    "tags": []
   },
   "source": [
    "We report the results of training/testing on AdaBoost:"
   ]
  },
  {
   "cell_type": "code",
   "execution_count": 4,
   "id": "e3201667",
   "metadata": {
    "execution": {
     "iopub.execute_input": "2023-06-20T20:56:39.723805Z",
     "iopub.status.busy": "2023-06-20T20:56:39.723455Z",
     "iopub.status.idle": "2023-06-20T20:56:40.048624Z",
     "shell.execute_reply": "2023-06-20T20:56:40.046940Z"
    },
    "papermill": {
     "duration": 0.331311,
     "end_time": "2023-06-20T20:56:40.051127",
     "exception": false,
     "start_time": "2023-06-20T20:56:39.719816",
     "status": "completed"
    },
    "tags": []
   },
   "outputs": [
    {
     "name": "stdout",
     "output_type": "stream",
     "text": [
      "                   precision    recall  f1-score   support\n",
      "\n",
      "Diabetes Negative       0.95      1.00      0.98     27587\n",
      "Diabetes Positive       1.00      0.47      0.64      2570\n",
      "\n",
      "         accuracy                           0.95     30157\n",
      "        macro avg       0.98      0.73      0.81     30157\n",
      "     weighted avg       0.96      0.95      0.95     30157\n",
      "\n"
     ]
    }
   ],
   "source": [
    "from sklearn.metrics import classification_report\n",
    "\n",
    "pred = clf.predict(test['HbA1c_level'].values.reshape(-1, 1))\n",
    "target_names = ['Diabetes Negative', 'Diabetes Positive']\n",
    "print(classification_report(test['diabetes'], pred, target_names=target_names))"
   ]
  },
  {
   "cell_type": "code",
   "execution_count": null,
   "id": "91d9c251",
   "metadata": {
    "papermill": {
     "duration": 0.002388,
     "end_time": "2023-06-20T20:56:40.056405",
     "exception": false,
     "start_time": "2023-06-20T20:56:40.054017",
     "status": "completed"
    },
    "tags": []
   },
   "outputs": [],
   "source": []
  }
 ],
 "metadata": {
  "kernelspec": {
   "display_name": "Python 3",
   "language": "python",
   "name": "python3"
  },
  "language_info": {
   "codemirror_mode": {
    "name": "ipython",
    "version": 3
   },
   "file_extension": ".py",
   "mimetype": "text/x-python",
   "name": "python",
   "nbconvert_exporter": "python",
   "pygments_lexer": "ipython3",
   "version": "3.10.10"
  },
  "papermill": {
   "default_parameters": {},
   "duration": 14.876338,
   "end_time": "2023-06-20T20:56:40.980974",
   "environment_variables": {},
   "exception": null,
   "input_path": "__notebook__.ipynb",
   "output_path": "__notebook__.ipynb",
   "parameters": {},
   "start_time": "2023-06-20T20:56:26.104636",
   "version": "2.4.0"
  }
 },
 "nbformat": 4,
 "nbformat_minor": 5
}
